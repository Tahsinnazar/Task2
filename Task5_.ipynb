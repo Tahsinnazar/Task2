{
  "nbformat": 4,
  "nbformat_minor": 0,
  "metadata": {
    "colab": {
      "provenance": [],
      "gpuType": "T4",
      "authorship_tag": "ABX9TyO92pjMUvf6ADc3BtzEjPc0",
      "include_colab_link": true
    },
    "kernelspec": {
      "name": "python3",
      "display_name": "Python 3"
    },
    "language_info": {
      "name": "python"
    },
    "accelerator": "GPU"
  },
  "cells": [
    {
      "cell_type": "markdown",
      "metadata": {
        "id": "view-in-github",
        "colab_type": "text"
      },
      "source": [
        "<a href=\"https://colab.research.google.com/github/Tahsinnazar/ai-cadmey-assignment-tasks-/blob/main/Task5_.ipynb\" target=\"_parent\"><img src=\"https://colab.research.google.com/assets/colab-badge.svg\" alt=\"Open In Colab\"/></a>"
      ]
    },
    {
      "cell_type": "markdown",
      "source": [
        "10 Example of \"IF\" condition are given below:"
      ],
      "metadata": {
        "id": "8Id3zLyGKOT8"
      }
    },
    {
      "cell_type": "code",
      "execution_count": null,
      "metadata": {
        "colab": {
          "base_uri": "https://localhost:8080/"
        },
        "id": "KOyb7BDcBGYn",
        "outputId": "32f62463-67af-40a2-fe41-3b43e96eecdc"
      },
      "outputs": [
        {
          "output_type": "stream",
          "name": "stdout",
          "text": [
            "x is positive\n"
          ]
        }
      ],
      "source": [
        "# Example 1\n",
        "x = 1034670\n",
        "if x > 0:\n",
        "    print(\"x is positive\")"
      ]
    },
    {
      "cell_type": "code",
      "source": [
        "# Example 2\n",
        "string1 = \"Earth is planet to live\"\n",
        "string2 = \"Earth is planet to live\"\n",
        "if string1 == string2:\n",
        "    print(\"The strings are equal\")"
      ],
      "metadata": {
        "colab": {
          "base_uri": "https://localhost:8080/"
        },
        "id": "zIhtScYCF05r",
        "outputId": "ff2cefda-d3e4-4c86-efeb-38598f5c31a3"
      },
      "execution_count": null,
      "outputs": [
        {
          "output_type": "stream",
          "name": "stdout",
          "text": [
            "The strings are equal\n"
          ]
        }
      ]
    },
    {
      "cell_type": "code",
      "source": [
        "# Example 3\n",
        "galaxies = [\"milkyway\", \"comet\", \"whilpool\"]\n",
        "if \"milkway\" in galaxies:\n",
        "    print(\" milkyway is in the list\")"
      ],
      "metadata": {
        "id": "L2WhosE-Bc-y"
      },
      "execution_count": null,
      "outputs": []
    },
    {
      "cell_type": "code",
      "source": [
        "# Example 4\n",
        "planets =[\"earth\",\"mars\",\"Jupiter\"]\n",
        "if \"mars\" in planets :\n",
        "    print(\"mars is in list\")"
      ],
      "metadata": {
        "colab": {
          "base_uri": "https://localhost:8080/"
        },
        "id": "_OgoI0yZBjrk",
        "outputId": "5cd95a6b-df01-41b4-90ba-f609e80ff76f"
      },
      "execution_count": null,
      "outputs": [
        {
          "output_type": "stream",
          "name": "stdout",
          "text": [
            "mars is in list\n"
          ]
        }
      ]
    },
    {
      "cell_type": "code",
      "source": [
        "# Example 5\n",
        "num = 18\n",
        "if num % 2 == 0:\n",
        "    print(\"The number is even\")"
      ],
      "metadata": {
        "colab": {
          "base_uri": "https://localhost:8080/"
        },
        "id": "HsZNx2doCaj-",
        "outputId": "bc227bce-88d7-4517-dd42-c8333bb74966"
      },
      "execution_count": null,
      "outputs": [
        {
          "output_type": "stream",
          "name": "stdout",
          "text": [
            "The number is even\n"
          ]
        }
      ]
    },
    {
      "cell_type": "code",
      "source": [
        "#Example 6\n",
        "num = 69\n",
        "if num % 2 != 0:\n",
        "    print(\"The number is odd\")"
      ],
      "metadata": {
        "colab": {
          "base_uri": "https://localhost:8080/"
        },
        "id": "Eb6MXlZOCk5v",
        "outputId": "6db0d2aa-11a4-4a73-9444-88beff27eb23"
      },
      "execution_count": null,
      "outputs": [
        {
          "output_type": "stream",
          "name": "stdout",
          "text": [
            "The number is odd\n"
          ]
        }
      ]
    },
    {
      "cell_type": "code",
      "source": [
        "#Example 7\n",
        "num = 21\n",
        "if num % 3 ==0:\n",
        "  print (\"number is divide by 3\")"
      ],
      "metadata": {
        "colab": {
          "base_uri": "https://localhost:8080/"
        },
        "id": "GCuYD6Q_DAYy",
        "outputId": "2b202d7a-1bae-44bc-ce13-bc3aa62e58e4"
      },
      "execution_count": null,
      "outputs": [
        {
          "output_type": "stream",
          "name": "stdout",
          "text": [
            "number is divide by 3\n"
          ]
        }
      ]
    },
    {
      "cell_type": "code",
      "source": [
        "# Example 8\n",
        "items = []\n",
        "if not items:\n",
        "    print(\"The list is empty\")"
      ],
      "metadata": {
        "colab": {
          "base_uri": "https://localhost:8080/"
        },
        "id": "xL34WHp1DjGX",
        "outputId": "e84c7320-0592-45ab-be53-b8cac60c9eb8"
      },
      "execution_count": null,
      "outputs": [
        {
          "output_type": "stream",
          "name": "stdout",
          "text": [
            "The list is empty\n"
          ]
        }
      ]
    },
    {
      "cell_type": "code",
      "source": [
        "# Example 9\n",
        "temperature = 0\n",
        "if temperature != 10:\n",
        "    print(\"It's freezing!\")"
      ],
      "metadata": {
        "colab": {
          "base_uri": "https://localhost:8080/"
        },
        "id": "wJibAdUADrFf",
        "outputId": "311bd636-59cd-41fb-b3e2-9b0c22e2fb6d"
      },
      "execution_count": null,
      "outputs": [
        {
          "output_type": "stream",
          "name": "stdout",
          "text": [
            "It's freezing!\n"
          ]
        }
      ]
    },
    {
      "cell_type": "code",
      "source": [
        "\n",
        "# Example 10\n",
        "mark = 40\n",
        "if mark >= 40:\n",
        "    print(\"shinning 🌟 of mother you pass \")"
      ],
      "metadata": {
        "colab": {
          "base_uri": "https://localhost:8080/"
        },
        "id": "hFlp_WjmEfPP",
        "outputId": "6b714b4f-145e-4bc7-b8f3-ceb2a0620d62"
      },
      "execution_count": null,
      "outputs": [
        {
          "output_type": "stream",
          "name": "stdout",
          "text": [
            "shinning 🌟 of mother you pass \n"
          ]
        }
      ]
    },
    {
      "cell_type": "markdown",
      "source": [
        " ●  example of \"ELIF\" conditions."
      ],
      "metadata": {
        "id": "pi2Wm6dAIkbG"
      }
    },
    {
      "cell_type": "code",
      "source": [
        "signal = \"yellow\"\n",
        "if signal == \"red\":\n",
        "    pass\n",
        "elif signal == \"yellow\":\n",
        "    print(\"Prepare to stop\")\n",
        "elif signal == \"green\":\n",
        "    print(\"Go\")"
      ],
      "metadata": {
        "colab": {
          "base_uri": "https://localhost:8080/"
        },
        "id": "XeZl76haIxV2",
        "outputId": "55e229a5-d748-4534-d0ed-ed8be64264bd"
      },
      "execution_count": null,
      "outputs": [
        {
          "output_type": "stream",
          "name": "stdout",
          "text": [
            "Prepare to stop\n"
          ]
        }
      ]
    },
    {
      "cell_type": "code",
      "source": [
        "score = 90\n",
        "if score < 60:\n",
        "    pass\n",
        "elif score < 70:\n",
        "    print(\"Grade: 🌟\")\n",
        "elif score < 80:\n",
        "    print(\"Grade: 🌟🌟\")\n",
        "elif score < 90:\n",
        "    print(\"Grade: 🌟🌟🌟\")\n",
        "elif score <= 100:\n",
        "    print(\"Grade: 🌟🌟🌟🌟\")"
      ],
      "metadata": {
        "colab": {
          "base_uri": "https://localhost:8080/"
        },
        "id": "YbBcvPzDN1jL",
        "outputId": "b5a8215c-7e56-41cf-ac3e-fde5aecb1fec"
      },
      "execution_count": null,
      "outputs": [
        {
          "output_type": "stream",
          "name": "stdout",
          "text": [
            "Grade: 🌟🌟🌟🌟\n"
          ]
        }
      ]
    },
    {
      "cell_type": "code",
      "source": [
        "temperature = 50\n",
        "if temperature < 0:\n",
        "    pass\n",
        "elif temperature < 10:\n",
        "    print(\"🌀Cold\")\n",
        "elif temperature < 20:\n",
        "    print(\"🌪Cool\")\n",
        "elif temperature < 30:\n",
        "    print(\"⛱️Warm\")\n",
        "elif temperature == 30:\n",
        "    print(\"🔥hot\")\n",
        "elif temperature == 50:\n",
        "    print(\"ustad chess AGI😈\")"
      ],
      "metadata": {
        "colab": {
          "base_uri": "https://localhost:8080/"
        },
        "id": "L_YWnj48NxiR",
        "outputId": "40ef357b-ec09-411a-bbfe-5643dabc6e68"
      },
      "execution_count": null,
      "outputs": [
        {
          "output_type": "stream",
          "name": "stdout",
          "text": [
            "ustad chess AGI😈\n"
          ]
        }
      ]
    },
    {
      "cell_type": "code",
      "source": [
        "signal = \"red\"\n",
        "if signal == \"red\":\n",
        "    print (\"stop🤬\")\n",
        "elif signal == \"yellow\":\n",
        "    print(\"Prepare to stop✋️\")\n",
        "elif signal == \"green\":\n",
        "    print(\"Go\")"
      ],
      "metadata": {
        "colab": {
          "base_uri": "https://localhost:8080/"
        },
        "id": "YpuokC_7V2-m",
        "outputId": "b542cf42-62ee-4822-9017-29f4b05d14a8"
      },
      "execution_count": null,
      "outputs": [
        {
          "output_type": "stream",
          "name": "stdout",
          "text": [
            "stop🤬\n"
          ]
        }
      ]
    },
    {
      "cell_type": "code",
      "source": [
        "\n",
        "# Example 5\n",
        "score = 85\n",
        "if score < 60:\n",
        "    pass\n",
        "elif score < 70:\n",
        "    print(\"Grade: D\")\n",
        "elif score < 80:\n",
        "    print(\"Grade: C\")\n",
        "elif score < 90:\n",
        "    print(\"Grade: B\")\n",
        "elif score <= 100:\n",
        "    print(\"Grade: A\")\n",
        "\n",
        "\n",
        "\n",
        "# Example 6: Weekday categorization\n",
        "day = \"Wednesday\"\n",
        "if day == \"Saturday\" or day == \"Sunday\":\n",
        "    print(\"Weekend\")\n",
        "elif day == \"Friday\":\n",
        "    print(\"Almost weekend\")\n",
        "\n",
        "# Example 4: Temperature check\n",
        "temperature = 30\n",
        "if temperature > 40:\n",
        "    print(\"It's very hot!\")\n",
        "elif temperature > 20:\n",
        "    print(\"It's warm.\")\n",
        "\n",
        "\n",
        "\n",
        "# Example 7: Shopping discount\n",
        "items_bought = 5\n",
        "if items_bought >= 10:\n",
        "    print(\"20% discount\")\n",
        "elif items_bought >= 5:\n",
        "    print(\"10% discount\")\n",
        "\n",
        "# Example : Gum Membership type\n",
        "age = 30\n",
        "if age < 18:\n",
        "    print(\"Child membership\")\n",
        "elif age < 60:\n",
        "    print(\"Adult membership\")\n",
        "\n",
        "# Example 9: Exam pass/fail\n",
        "marks = 50\n",
        "if marks >= 75:\n",
        "    print(\"good\")\n",
        "elif marks >= 50:\n",
        "    print(\"Pass\")\n",
        "\n",
        "# Example 10: Battery level\n",
        "battery = 50\n",
        "if battery > 100:\n",
        "    print(\"Battery is full\")\n",
        "elif battery > 15:\n",
        "    print(\"Battery is sufficient\")"
      ],
      "metadata": {
        "colab": {
          "base_uri": "https://localhost:8080/"
        },
        "id": "q6qeIGEqu3P4",
        "outputId": "4ce98c35-4f51-4c48-e55f-bbe1ee8b159b"
      },
      "execution_count": 8,
      "outputs": [
        {
          "output_type": "stream",
          "name": "stdout",
          "text": [
            "Grade: B\n",
            "It's warm.\n",
            "10% discount\n",
            "Adult membership\n",
            "Pass\n",
            "Battery is sufficient\n"
          ]
        }
      ]
    },
    {
      "cell_type": "code",
      "source": [
        "# Examples of  'else' conditions .\n",
        "\n",
        "value = input(\"Enter a value: \")\n",
        "\n",
        "if value.isdigit():\n",
        "    value = int(value)\n",
        "    if value > 0:\n",
        "        pass\n",
        "    else:\n",
        "        print(\"The number is not positive.\")\n",
        "\n",
        "# 2. Check if the number is even\n",
        "    if value % 2 == 0:\n",
        "        pass\n",
        "    else:\n",
        "        print(\"The number is odd.\")\n",
        "\n",
        "# 3. Check if the number is divisible by 57\n",
        "\n",
        "    if value % 57 == 0:\n",
        "        pass\n",
        "    else:\n",
        "        print(\"The number is not divisible by 5.\")\n",
        "\n",
        "# 4. Check if the number is within a range\n",
        "    if 10 <= value <= 100:\n",
        "        pass\n",
        "    else:\n",
        "        print(\"The number is not between 10 and 100.\")\n",
        "\n",
        "# 5. Check if the number is a single digit\n",
        "    if 0 <= value <= 9:\n",
        "        pass\n",
        "    else:\n",
        "        print(\"The number is not a single-digit number.\")\n",
        "\n",
        "# 6. Check if the input is a valid string\n",
        "elif value.isalpha():\n",
        "    if value.islower():\n",
        "        pass\n",
        "    else:\n",
        "        print(\"The string is not in lowercase.\")\n",
        "\n",
        "# 7. Check if the string length is less than 5\n",
        "    if len(value) < 5:\n",
        "        pass\n",
        "    else:\n",
        "        print(\"The string is not short.\")"
      ],
      "metadata": {
        "colab": {
          "base_uri": "https://localhost:8080/"
        },
        "id": "ZLvsOeIG3Hvi",
        "outputId": "47ff3ecb-26f1-4ad5-8fd8-f6e3044d0336"
      },
      "execution_count": null,
      "outputs": [
        {
          "output_type": "stream",
          "name": "stdout",
          "text": [
            "Enter a value: 4\n",
            "The number is not divisible by 5.\n",
            "The number is not between 10 and 100.\n"
          ]
        }
      ]
    },
    {
      "cell_type": "code",
      "source": [
        "# Example 8: Identify the type of planet\n",
        "planet = \"Mars\"\n",
        "if planet == \"Mercury\":\n",
        "    print(\"Closest planet to the Sun.\")\n",
        "elif planet == \"Mars\":\n",
        "    print(\"Known as the Red Planet.\")\n",
        "elif planet == \"Jupiter\":\n",
        "    print(\"The largest planet in the solar system.\")\n",
        "\n",
        "# Example 9: Check if an object is a star, planet, or moon\n",
        "object_type = \"Moon\"\n",
        "if object_type == \"Star\":\n",
        "    print(\"It's a star, like the Sun!\")\n",
        "elif object_type == \"Planet\":\n",
        "    print(\"It's a planet in the solar system.\")\n",
        "elif object_type == \"Moon\":\n",
        "    print(\"It's a natural satellite.\")\n",
        "\n",
        "# Example 10: Space temperature levels\n",
        "temperature = -150\n",
        "if temperature > 100:\n",
        "    print(\"It's extremely hot!\")\n",
        "elif temperature > 0:\n",
        "    print(\"It's relatively warm.\")\n",
        "elif temperature <= 0:\n",
        "    print(\"It's freezing cold!\")"
      ],
      "metadata": {
        "colab": {
          "base_uri": "https://localhost:8080/"
        },
        "id": "-UCevUTPx0n5",
        "outputId": "4aea86bd-9125-4cdd-dcb4-cbd560845946"
      },
      "execution_count": 9,
      "outputs": [
        {
          "output_type": "stream",
          "name": "stdout",
          "text": [
            "Known as the Red Planet.\n",
            "It's a natural satellite.\n",
            "It's freezing cold!\n"
          ]
        }
      ]
    }
  ]
}